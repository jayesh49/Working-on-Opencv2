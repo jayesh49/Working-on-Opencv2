{
 "cells": [
  {
   "cell_type": "code",
   "execution_count": 1,
   "metadata": {},
   "outputs": [],
   "source": [
    "import cv2"
   ]
  },
  {
   "cell_type": "code",
   "execution_count": null,
   "metadata": {},
   "outputs": [],
   "source": [
    "j=cv2.imread(\"joey.jpg\")\n",
    "c=cv2.imread(\"chandler.jpg\")"
   ]
  },
  {
   "cell_type": "code",
   "execution_count": null,
   "metadata": {},
   "outputs": [],
   "source": [
    "cv2.imshow(\"Joey\", j)\n",
    "cv2.waitKey(3000)\n",
    "cv2.destroyAllWindows()\n",
    "cv2.imshow(\"Chandler\", c)\n",
    "cv2.waitKey(3000)\n",
    "cv2.destroyAllWindows()"
   ]
  },
  {
   "cell_type": "code",
   "execution_count": null,
   "metadata": {},
   "outputs": [],
   "source": [
    "model=cv2.CascadeClassifier(\"haar.xml\")\n",
    "face1=model.detectMultiScale(j)\n",
    "face2=model.detectMultiScale(c)"
   ]
  },
  {
   "cell_type": "code",
   "execution_count": null,
   "metadata": {},
   "outputs": [],
   "source": [
    "j=cv2.imread(\"joey.jpg\")\n",
    "c=cv2.imread(\"chandler.jpg\")"
   ]
  },
  {
   "cell_type": "code",
   "execution_count": null,
   "metadata": {},
   "outputs": [],
   "source": [
    "x1=face1[0][0]\n",
    "y1=face1[0][1]\n",
    "x2=x1+face1[0][2]\n",
    "y2=y1+face1[0][3]\n",
    "\n",
    "j1=j[x1:x2,y1:y2]"
   ]
  },
  {
   "cell_type": "code",
   "execution_count": null,
   "metadata": {},
   "outputs": [],
   "source": [
    "x3=face2[0][0]\n",
    "y3=face2[0][1]\n",
    "x4=x1+face2[0][2]\n",
    "y4=y1+face2[0][3]\n",
    "c1=c[x3:x4,y3:y4]"
   ]
  },
  {
   "cell_type": "code",
   "execution_count": null,
   "metadata": {},
   "outputs": [],
   "source": [
    "cv2.imshow(\"joey\", j)\n",
    "if cv2.waitKey() == 13:\n",
    "    cv2.destroyAllWindows()\n",
    "\n",
    "cv2.imshow(\"Chandler\", c)\n",
    "if cv2.waitKey() == 13:\n",
    "    cv2.destroyAllWindows()"
   ]
  },
  {
   "cell_type": "code",
   "execution_count": null,
   "metadata": {},
   "outputs": [],
   "source": [
    "l=cv2.resize(j1,(c1.shape[0],c1.shape[1]))\n",
    "c[y3:y4,x3:x4] = l\n",
    "\n",
    "cv2.imshow(\"Chandler\", c)\n",
    "if cv2.waitKey() == 13:\n",
    "    cv2.destroyAllWindows()"
   ]
  },
  {
   "cell_type": "code",
   "execution_count": null,
   "metadata": {},
   "outputs": [],
   "source": []
  },
  {
   "cell_type": "code",
   "execution_count": null,
   "metadata": {},
   "outputs": [],
   "source": []
  }
 ],
 "metadata": {
  "kernelspec": {
   "display_name": "Python 3",
   "language": "python",
   "name": "python3"
  },
  "language_info": {
   "codemirror_mode": {
    "name": "ipython",
    "version": 3
   },
   "file_extension": ".py",
   "mimetype": "text/x-python",
   "name": "python",
   "nbconvert_exporter": "python",
   "pygments_lexer": "ipython3",
   "version": "3.8.3"
  }
 },
 "nbformat": 4,
 "nbformat_minor": 4
}
